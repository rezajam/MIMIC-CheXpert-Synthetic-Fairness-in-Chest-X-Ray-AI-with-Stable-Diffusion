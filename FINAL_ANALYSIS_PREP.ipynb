{
 "cells": [
  {
   "cell_type": "markdown",
   "metadata": {},
   "source": [
    "# ***FPR and AUC Analysis***"
   ]
  },
  {
   "cell_type": "markdown",
   "metadata": {},
   "source": [
    "# ⚙️ Functions and Settings"
   ]
  },
  {
   "cell_type": "markdown",
   "metadata": {},
   "source": [
    "## 📊 [ **FPR or AUC** ] barchart combined"
   ]
  },
  {
   "cell_type": "code",
   "execution_count": 297,
   "metadata": {},
   "outputs": [],
   "source": [
    "import matplotlib.pyplot as plt\n",
    "import numpy as np\n",
    "\n",
    "\n",
    "def combined_plot(auc_total, auc_white, auc_black, auc_other, auc_male, auc_female, TITLE, fpr_or_auc):\n",
    "\n",
    "    \n",
    "        \n",
    "    # Set figure size\n",
    "    plt.figure(figsize=(5, 5))\n",
    "\n",
    "    # Setting up the data for the bars\n",
    "    x = [\"\", \"Total\", \"\", \"White\", \"Black\", \"Other\", \"\", \"Male\", \"Female\"]\n",
    "    y = [None, auc_total, None, auc_white, auc_black, auc_other, None, auc_male, auc_female]\n",
    "\n",
    "    # Colors \n",
    "    colors = [\"\", \"green\", \"\", \"white\", \"black\", \"blue\", \"\", \"#3274A1\", \"#E1812C\"]\n",
    "    edgecolors = [\"\", \"black\", \"\", \"black\", \"black\", \"black\", \"\", \"#3274A1\", \"#E1812C\"]\n",
    "    # Plot the bars\n",
    "    for i in range(len(x)):\n",
    "        if y[i] is not None:  \n",
    "            plt.bar(i, y[i], color=colors[i], edgecolor=edgecolors[i])\n",
    "\n",
    "    # Add value labels under the bars\n",
    "    for i in range(len(x)):\n",
    "        if y[i] is not None:  \n",
    "            plt.text(i, y[i] + 0.0025, f\"{y[i]:.4f}\", ha='center')\n",
    "\n",
    "    # Add grid, labels, big title\n",
    "    plt.grid(axis='y', linestyle='--', color='grey', alpha=0.5)\n",
    "    plt.title(f\"{fpr_or_auc} for {TITLE}\", fontsize=14)\n",
    "    plt.xlabel(\"\")\n",
    "    plt.ylabel(f\"{fpr_or_auc}\")\n",
    "    if fpr_or_auc == \"FPR\":\n",
    "        plt.ylim(0.15, 0.35)\n",
    "    elif fpr_or_auc == \"AUC\":\n",
    "        plt.ylim(0.7, 0.9)\n",
    "\n",
    "    # Adjust x-axis labels\n",
    "    plt.xticks(range(len(x)), x, rotation=0)\n",
    "\n",
    "    # Show plot\n",
    "    plt.tight_layout()\n",
    "    plt.show()\n",
    "\n"
   ]
  },
  {
   "cell_type": "markdown",
   "metadata": {},
   "source": [
    "## ⚙️ Setting up labels and probabilities"
   ]
  },
  {
   "cell_type": "markdown",
   "metadata": {},
   "source": [
    "\n",
    "final_mimic_05_syn_all  50  \n",
    "\n",
    "FPR_FILE_NAME = \"FPR_MIMIC_50SYN\""
   ]
  },
  {
   "cell_type": "markdown",
   "metadata": {},
   "source": [
    "### ⚙️ Choose the training experiment results i.e, name of results folder  and (the title on the plots) \n",
    "For Example:  \n",
    "  \n",
    "Real Data ---\n",
    "- \"final_mimic_real_all\"    (For MIMIC only)  \n",
    "- \"final_chexpert_all\"      (For CheXpert only)  \n",
    "- \"final_mimic_chexpert_all\"(For MIMIC + CheXpert only) \n",
    "\n",
    "Synthetic ---\n",
    "- \"final_syn_all\"           (For Synthetic only)  \n",
    "- \"final_mimic_syn_all\"     (For MIMIC + Synthetic)\n",
    "- \"final_chexpert_syn_all\"  (For CheXpert + Synthetic)  \n",
    "- \"final_mimic_075_syn_all\" (For MIMIC + 75% SYN) \n",
    "- \"final_mimic_05_syn_all\"  (For MIMIC + 50% SYN)  \n",
    "- \"final_mimic_025_syn_all\" (For MIMIC + 25% SYN) \n",
    "- \"final_mimic_10_syn_all\"  (For MIMIC + 10% SYN) \n",
    "- \"final_mimic_5_syn_all\"   (For MIMIC + 5% SYN)   \n",
    "- \"final_mimic_01_syn_all\"  (For MIMIC + 1% SYN)  \n",
    "\n",
    "\n",
    "and the  \n",
    "\n",
    "plot_title for the plot function"
   ]
  },
  {
   "cell_type": "code",
   "execution_count": 298,
   "metadata": {},
   "outputs": [],
   "source": [
    "exp_type = \"final_syn_all\"\n",
    "\n",
    "plot_title = \"Synthetic only\"\n",
    "\n",
    "# the FPR and AUC json file names\n",
    "\n",
    "FPR_FILE_NAME = \"FPR_SYNTH\"\n",
    "\n",
    "AUC_FILE_NAME = \"AUC_SYNTH\""
   ]
  },
  {
   "cell_type": "markdown",
   "metadata": {},
   "source": [
    "### ⚙️ Getting the corresponding labels and probabilities"
   ]
  },
  {
   "cell_type": "code",
   "execution_count": 299,
   "metadata": {},
   "outputs": [],
   "source": [
    "# ---------------------------------------------------------------------------- #\n",
    "#                                                                              #\n",
    "#                                  [ THE CODE ]                                #\n",
    "#                                                                              #\n",
    "# ---------------------------------------------------------------------------- #\n",
    "\n",
    "\n",
    "labels_val = np.load(f'/local/home/rezajam/fairness_on_embeddings/results/{exp_type}/probabilities/labels_val.npy')\n",
    "pp_val = np.load(f'/local/home/rezajam/fairness_on_embeddings/results/{exp_type}/probabilities/probabilities_val.npy')\n",
    "labels_test = np.load(f'/local/home/rezajam/fairness_on_embeddings/results/{exp_type}/probabilities/labels_test.npy')\n",
    "pp_test = np.load(f'/local/home/rezajam/fairness_on_embeddings/results/{exp_type}/probabilities/probabilities_test.npy')\n",
    "\n",
    "label_names = [\n",
    "    \"Cardiomegaly\"\n",
    "    ,\"Edema\"\n",
    "    ,\"Consolidation\"\n",
    "    ,\"Atelectasis\"\n",
    "    ,\"Pleural Effusion\"\n",
    "    ,\"No Finding\"\n",
    "]"
   ]
  },
  {
   "cell_type": "markdown",
   "metadata": {},
   "source": [
    "## ⚙️ Apply threshold  "
   ]
  },
  {
   "cell_type": "code",
   "execution_count": 300,
   "metadata": {},
   "outputs": [],
   "source": [
    "from metrics.metrics import find_best_threshold\n",
    "# ---------------------------------------------------------------------------- #\n",
    "#                                 get Threshold                                #\n",
    "# ---------------------------------------------------------------------------- #\n",
    "thresholds = find_best_threshold(pp_val, labels_val)\n"
   ]
  },
  {
   "cell_type": "markdown",
   "metadata": {},
   "source": [
    "# 📝+📊 Fairness Analysis **(Races and Genders)** and Visualizations"
   ]
  },
  {
   "cell_type": "markdown",
   "metadata": {},
   "source": [
    "## 1️⃣ **Setup and Configuration**\n",
    "- Import required libraries.\n",
    "- Set up initial configurations and paths."
   ]
  },
  {
   "cell_type": "code",
   "execution_count": 301,
   "metadata": {},
   "outputs": [],
   "source": [
    "import numpy as np\n",
    "import pandas as pd\n",
    "import matplotlib.pyplot as plt\n",
    "from sklearn.metrics import RocCurveDisplay\n",
    "from sklearn.metrics import roc_auc_score\n",
    "from metrics.metrics import calculate_roc_auc,find_best_threshold, calculate_fpr_fnr"
   ]
  },
  {
   "cell_type": "markdown",
   "metadata": {},
   "source": [
    "## 2️⃣ **Dataset Preparation**"
   ]
  },
  {
   "cell_type": "markdown",
   "metadata": {},
   "source": [
    "### 2.1 Load Test Dataset\n",
    "- Load the test dataset (`mimic_test_csv`).\n",
    "- Filter for frontal images if specified (`use_frontal: True`).\n",
    "\n",
    "### 2.2 Create Patient ID 🆔\n",
    "- Extract `subject_id` from the file paths.\n",
    "- Process the IDs to make them usable for merging."
   ]
  },
  {
   "cell_type": "code",
   "execution_count": 302,
   "metadata": {},
   "outputs": [
    {
     "data": {
      "text/html": [
       "<div>\n",
       "<style scoped>\n",
       "    .dataframe tbody tr th:only-of-type {\n",
       "        vertical-align: middle;\n",
       "    }\n",
       "\n",
       "    .dataframe tbody tr th {\n",
       "        vertical-align: top;\n",
       "    }\n",
       "\n",
       "    .dataframe thead th {\n",
       "        text-align: right;\n",
       "    }\n",
       "</style>\n",
       "<table border=\"1\" class=\"dataframe\">\n",
       "  <thead>\n",
       "    <tr style=\"text-align: right;\">\n",
       "      <th></th>\n",
       "      <th>Path</th>\n",
       "      <th>Atelectasis</th>\n",
       "      <th>Cardiomegaly</th>\n",
       "      <th>Consolidation</th>\n",
       "      <th>Edema</th>\n",
       "      <th>Pleural Effusion</th>\n",
       "      <th>No Finding</th>\n",
       "      <th>Frontal/Lateral</th>\n",
       "      <th>split</th>\n",
       "      <th>train/val/test</th>\n",
       "      <th>subject_id</th>\n",
       "    </tr>\n",
       "  </thead>\n",
       "  <tbody>\n",
       "    <tr>\n",
       "      <th>0</th>\n",
       "      <td>files/p19/p19475214/s50795646/56370e38-cc33f33...</td>\n",
       "      <td>NaN</td>\n",
       "      <td>1.0</td>\n",
       "      <td>NaN</td>\n",
       "      <td>NaN</td>\n",
       "      <td>NaN</td>\n",
       "      <td>NaN</td>\n",
       "      <td>Frontal</td>\n",
       "      <td>p19</td>\n",
       "      <td>test</td>\n",
       "      <td>19475214</td>\n",
       "    </tr>\n",
       "    <tr>\n",
       "      <th>1</th>\n",
       "      <td>files/p19/p19475214/s50795646/50174d0f-2558bcf...</td>\n",
       "      <td>NaN</td>\n",
       "      <td>1.0</td>\n",
       "      <td>NaN</td>\n",
       "      <td>NaN</td>\n",
       "      <td>NaN</td>\n",
       "      <td>NaN</td>\n",
       "      <td>Lateral</td>\n",
       "      <td>p19</td>\n",
       "      <td>test</td>\n",
       "      <td>19475214</td>\n",
       "    </tr>\n",
       "    <tr>\n",
       "      <th>2</th>\n",
       "      <td>files/p19/p19565843/s54739671/18d00135-12bbef2...</td>\n",
       "      <td>NaN</td>\n",
       "      <td>NaN</td>\n",
       "      <td>NaN</td>\n",
       "      <td>NaN</td>\n",
       "      <td>NaN</td>\n",
       "      <td>1.0</td>\n",
       "      <td>Lateral</td>\n",
       "      <td>p19</td>\n",
       "      <td>test</td>\n",
       "      <td>19565843</td>\n",
       "    </tr>\n",
       "    <tr>\n",
       "      <th>3</th>\n",
       "      <td>files/p19/p19565843/s54739671/f84df8cb-05b220f...</td>\n",
       "      <td>NaN</td>\n",
       "      <td>NaN</td>\n",
       "      <td>NaN</td>\n",
       "      <td>NaN</td>\n",
       "      <td>NaN</td>\n",
       "      <td>1.0</td>\n",
       "      <td>Frontal</td>\n",
       "      <td>p19</td>\n",
       "      <td>test</td>\n",
       "      <td>19565843</td>\n",
       "    </tr>\n",
       "    <tr>\n",
       "      <th>4</th>\n",
       "      <td>files/p19/p19623993/s57012563/839682a6-30ec6c4...</td>\n",
       "      <td>NaN</td>\n",
       "      <td>NaN</td>\n",
       "      <td>NaN</td>\n",
       "      <td>NaN</td>\n",
       "      <td>NaN</td>\n",
       "      <td>1.0</td>\n",
       "      <td>Frontal</td>\n",
       "      <td>p19</td>\n",
       "      <td>test</td>\n",
       "      <td>19623993</td>\n",
       "    </tr>\n",
       "    <tr>\n",
       "      <th>...</th>\n",
       "      <td>...</td>\n",
       "      <td>...</td>\n",
       "      <td>...</td>\n",
       "      <td>...</td>\n",
       "      <td>...</td>\n",
       "      <td>...</td>\n",
       "      <td>...</td>\n",
       "      <td>...</td>\n",
       "      <td>...</td>\n",
       "      <td>...</td>\n",
       "      <td>...</td>\n",
       "    </tr>\n",
       "    <tr>\n",
       "      <th>37643</th>\n",
       "      <td>files/p19/p19560160/s52559907/372da885-622921e...</td>\n",
       "      <td>NaN</td>\n",
       "      <td>NaN</td>\n",
       "      <td>NaN</td>\n",
       "      <td>NaN</td>\n",
       "      <td>NaN</td>\n",
       "      <td>1.0</td>\n",
       "      <td>Lateral</td>\n",
       "      <td>p19</td>\n",
       "      <td>test</td>\n",
       "      <td>19560160</td>\n",
       "    </tr>\n",
       "    <tr>\n",
       "      <th>37644</th>\n",
       "      <td>files/p19/p19560160/s55462975/49bb3e40-8a077e9...</td>\n",
       "      <td>NaN</td>\n",
       "      <td>NaN</td>\n",
       "      <td>NaN</td>\n",
       "      <td>NaN</td>\n",
       "      <td>NaN</td>\n",
       "      <td>1.0</td>\n",
       "      <td>Lateral</td>\n",
       "      <td>p19</td>\n",
       "      <td>test</td>\n",
       "      <td>19560160</td>\n",
       "    </tr>\n",
       "    <tr>\n",
       "      <th>37645</th>\n",
       "      <td>files/p19/p19560160/s55462975/077a1497-e0a0c73...</td>\n",
       "      <td>NaN</td>\n",
       "      <td>NaN</td>\n",
       "      <td>NaN</td>\n",
       "      <td>NaN</td>\n",
       "      <td>NaN</td>\n",
       "      <td>1.0</td>\n",
       "      <td>Frontal</td>\n",
       "      <td>p19</td>\n",
       "      <td>test</td>\n",
       "      <td>19560160</td>\n",
       "    </tr>\n",
       "    <tr>\n",
       "      <th>37646</th>\n",
       "      <td>files/p19/p19256476/s54932183/02a3e765-aa81476...</td>\n",
       "      <td>NaN</td>\n",
       "      <td>NaN</td>\n",
       "      <td>NaN</td>\n",
       "      <td>NaN</td>\n",
       "      <td>NaN</td>\n",
       "      <td>1.0</td>\n",
       "      <td>Lateral</td>\n",
       "      <td>p19</td>\n",
       "      <td>test</td>\n",
       "      <td>19256476</td>\n",
       "    </tr>\n",
       "    <tr>\n",
       "      <th>37647</th>\n",
       "      <td>files/p19/p19256476/s54932183/b5c1a331-3117e74...</td>\n",
       "      <td>NaN</td>\n",
       "      <td>NaN</td>\n",
       "      <td>NaN</td>\n",
       "      <td>NaN</td>\n",
       "      <td>NaN</td>\n",
       "      <td>1.0</td>\n",
       "      <td>Frontal</td>\n",
       "      <td>p19</td>\n",
       "      <td>test</td>\n",
       "      <td>19256476</td>\n",
       "    </tr>\n",
       "  </tbody>\n",
       "</table>\n",
       "<p>37648 rows × 11 columns</p>\n",
       "</div>"
      ],
      "text/plain": [
       "                                                    Path  Atelectasis  \\\n",
       "0      files/p19/p19475214/s50795646/56370e38-cc33f33...          NaN   \n",
       "1      files/p19/p19475214/s50795646/50174d0f-2558bcf...          NaN   \n",
       "2      files/p19/p19565843/s54739671/18d00135-12bbef2...          NaN   \n",
       "3      files/p19/p19565843/s54739671/f84df8cb-05b220f...          NaN   \n",
       "4      files/p19/p19623993/s57012563/839682a6-30ec6c4...          NaN   \n",
       "...                                                  ...          ...   \n",
       "37643  files/p19/p19560160/s52559907/372da885-622921e...          NaN   \n",
       "37644  files/p19/p19560160/s55462975/49bb3e40-8a077e9...          NaN   \n",
       "37645  files/p19/p19560160/s55462975/077a1497-e0a0c73...          NaN   \n",
       "37646  files/p19/p19256476/s54932183/02a3e765-aa81476...          NaN   \n",
       "37647  files/p19/p19256476/s54932183/b5c1a331-3117e74...          NaN   \n",
       "\n",
       "       Cardiomegaly  Consolidation  Edema  Pleural Effusion  No Finding  \\\n",
       "0               1.0            NaN    NaN               NaN         NaN   \n",
       "1               1.0            NaN    NaN               NaN         NaN   \n",
       "2               NaN            NaN    NaN               NaN         1.0   \n",
       "3               NaN            NaN    NaN               NaN         1.0   \n",
       "4               NaN            NaN    NaN               NaN         1.0   \n",
       "...             ...            ...    ...               ...         ...   \n",
       "37643           NaN            NaN    NaN               NaN         1.0   \n",
       "37644           NaN            NaN    NaN               NaN         1.0   \n",
       "37645           NaN            NaN    NaN               NaN         1.0   \n",
       "37646           NaN            NaN    NaN               NaN         1.0   \n",
       "37647           NaN            NaN    NaN               NaN         1.0   \n",
       "\n",
       "      Frontal/Lateral split train/val/test  subject_id  \n",
       "0             Frontal   p19           test    19475214  \n",
       "1             Lateral   p19           test    19475214  \n",
       "2             Lateral   p19           test    19565843  \n",
       "3             Frontal   p19           test    19565843  \n",
       "4             Frontal   p19           test    19623993  \n",
       "...               ...   ...            ...         ...  \n",
       "37643         Lateral   p19           test    19560160  \n",
       "37644         Lateral   p19           test    19560160  \n",
       "37645         Frontal   p19           test    19560160  \n",
       "37646         Lateral   p19           test    19256476  \n",
       "37647         Frontal   p19           test    19256476  \n",
       "\n",
       "[37648 rows x 11 columns]"
      ]
     },
     "execution_count": 302,
     "metadata": {},
     "output_type": "execute_result"
    }
   ],
   "source": [
    "# ---------------------------------------------------------------------------- #\n",
    "#                                   RACE                                       #\n",
    "# ---------------------------------------------------------------------------- #\n",
    "\n",
    "# -------------------------------- Explore Race ------------------------------ #\n",
    "# get csvs\n",
    "mimic_test_csv = pd.read_csv('/local/home/rezajam/project/med-stable-diffusion/data/csv/mimic/mimic_test.csv')\n",
    "# mimic_test_csv = pd.read_csv('/local/home/rezajam/fairness_on_embeddings/results-backup/mimic_test.csv')\n",
    "# use_frontal: True\n",
    "# mimic_test_csv = mimic_test_csv[mimic_test_csv[\"Frontal/Lateral\"] == \"Frontal\"]\n",
    "\n",
    "\n",
    "# --------------------------------- CREATE ID -------------------------------- #\n",
    "# CREATE ID from Path 'p' from p231434 \n",
    "# add the patient_id from /.../p12313/...:\n",
    "mimic_test_csv['subject_id'] = mimic_test_csv['Path'].apply(lambda x: x.split('/')[2])\n",
    "# remove 'p' from p231434\n",
    "mimic_test_csv['subject_id'] = mimic_test_csv['subject_id'].apply(lambda x: x.split('p')[1]).astype(int)\n",
    "mimic_test_csv\n"
   ]
  },
  {
   "cell_type": "markdown",
   "metadata": {},
   "source": [
    "## 3️⃣ **Incorporate Demographics Data 📋**"
   ]
  },
  {
   "cell_type": "markdown",
   "metadata": {},
   "source": [
    "### 3.1 Add Race Information \n",
    "- Load admissions data to map `subject_id` to `race`.\n",
    "- Merge `race` data into the test dataset.\n",
    "\n",
    "### 3.2 Validate Dataset Integrity\n",
    "- Ensure the dataset's length remains consistent after merging.\n",
    "- Verify the correspondence between `labels_test` and `mimic_test_csv`."
   ]
  },
  {
   "cell_type": "code",
   "execution_count": 303,
   "metadata": {},
   "outputs": [
    {
     "name": "stdout",
     "output_type": "stream",
     "text": [
      "Labels size: 37648\n",
      "Testing dataset size: 37648\n"
     ]
    }
   ],
   "source": [
    "# --------------------------------- ADD RACE --------------------------------- #\n",
    "\n",
    "# ------------ ADD RACE from merging admissions id to the mimic id ----------- #\n",
    "mimic_admissions =  pd.read_csv('/local/data/physionet.org/files/mimiciv/2.2/hosp/admissions.csv')\n",
    "# Ensure mimic_admissions has no duplicate subject_id rows\n",
    "mimic_admissions = mimic_admissions.drop_duplicates(subset='subject_id')\n",
    "# Create a mapping from subject_id to race\n",
    "id_to_race = mimic_admissions.set_index('subject_id')['race']\n",
    "# Add the race column to mimic_test_csv based on subject_id mapping\n",
    "mimic_test_csv['race'] = mimic_test_csv['subject_id'].map(id_to_race)\n",
    "# Verify the lengths remain unchanged\n",
    "\n",
    "print(\"Labels size:\", labels_test.shape[0])\n",
    "print(\"Testing dataset size:\", mimic_test_csv.shape[0])\n",
    "assert len(labels_test) == len(mimic_test_csv), \"Length mismatch detected!\"\n",
    "# mimic_test_csv\n",
    "mimic_test_csv1 = mimic_test_csv.copy()"
   ]
  },
  {
   "cell_type": "markdown",
   "metadata": {},
   "source": [
    "## 4️⃣ **Race-based Analysis 🌍**"
   ]
  },
  {
   "cell_type": "markdown",
   "metadata": {},
   "source": [
    "\n",
    "### 4.1 Overall Performance\n",
    "- Compute ROC-AUC, FPR, and FNR for the entire dataset."
   ]
  },
  {
   "cell_type": "code",
   "execution_count": 304,
   "metadata": {},
   "outputs": [],
   "source": [
    "# ---------------------------------------------------------------------------- #\n",
    "#                       [Race] Label-Probability Analysis                      #\n",
    "# ---------------------------------------------------------------------------- #\n",
    "\n",
    "# ----------------------------------- TOTAL ---------------------------------- #\n",
    "labels_test = np.load(f'/local/home/rezajam/fairness_on_embeddings/results/{exp_type}/probabilities/labels_test.npy')\n",
    "pp_test = np.load(f'/local/home/rezajam/fairness_on_embeddings/results/{exp_type}/probabilities/probabilities_test.npy')\n",
    "mimic_test_csv = mimic_test_csv1.copy()\n",
    "\n",
    "label_all = {}\n",
    "pp_all = {}\n",
    "label_all = labels_test\n",
    "pp_all = pp_test\n",
    "__, __, my_auc_all = calculate_roc_auc(pp_all, label_all)\n",
    "\n",
    "fpr_all, fnr_all = calculate_fpr_fnr(pp_all, label_all, thresholds)\n",
    "# my_auc_all = {}\n",
    "# for i in range(label_all.shape[1]):\n",
    "#     my_auc_all[i] = roc_auc_score(label_all[:, i], pp_all[:, i])"
   ]
  },
  {
   "cell_type": "markdown",
   "metadata": {},
   "source": [
    "### 4.2 Analyze by Race"
   ]
  },
  {
   "cell_type": "markdown",
   "metadata": {},
   "source": [
    "#### ⬜ White Population \n",
    "- Filter for `WHITE` and related subcategories.\n",
    "- Compute metrics: ROC-AUC, FPR, and FNR."
   ]
  },
  {
   "cell_type": "code",
   "execution_count": 305,
   "metadata": {},
   "outputs": [],
   "source": [
    "# ----------------------------------- WHITE ---------------------------------- #\n",
    "labels_test = np.load(f'/local/home/rezajam/fairness_on_embeddings/results/{exp_type}/probabilities/labels_test.npy')\n",
    "pp_test = np.load(f'/local/home/rezajam/fairness_on_embeddings/results/{exp_type}/probabilities/probabilities_test.npy')\n",
    "mimic_test_csv = mimic_test_csv1.copy()\n",
    "\n",
    "white_related = [\n",
    "    'WHITE',\n",
    "    'WHITE - RUSSIAN',\n",
    "    'WHITE - OTHER EUROPEAN',\n",
    "    'WHITE - BRAZILIAN',\n",
    "    'WHITE - EASTERN EUROPEAN'\n",
    "]\n",
    "label_white = {}\n",
    "pp_white = {}\n",
    "mimic_test_csv = mimic_test_csv1.copy()\n",
    "label_white = labels_test[mimic_test_csv['race'].isin(white_related)]\n",
    "mimic_test_csv = mimic_test_csv1.copy()\n",
    "pp_white = pp_test[mimic_test_csv['race'].isin(white_related)]\n",
    "__, __, my_auc_white = calculate_roc_auc(pp_white, label_white)\n",
    "\n",
    "\n",
    "fpr_white, fnr_white = calculate_fpr_fnr(pp_white, label_white, thresholds)\n",
    "# my_auc_white = {}\n",
    "# for i in range(label_white.shape[1]):\n",
    "#     my_auc_white[i] = roc_auc_score(label_white[:, i], pp_white[:, i])"
   ]
  },
  {
   "cell_type": "markdown",
   "metadata": {},
   "source": [
    "#### ⬛ Black Population \n",
    "- Filter for `BLACK/AFRICAN AMERICAN` and related subcategories.\n",
    "- Compute metrics: ROC-AUC, FPR, and FNR."
   ]
  },
  {
   "cell_type": "code",
   "execution_count": 306,
   "metadata": {},
   "outputs": [],
   "source": [
    "# ----------------------------------- BLACK ---------------------------------- #\n",
    "labels_test = np.load(f'/local/home/rezajam/fairness_on_embeddings/results/{exp_type}/probabilities/labels_test.npy')\n",
    "pp_test = np.load(f'/local/home/rezajam/fairness_on_embeddings/results/{exp_type}/probabilities/probabilities_test.npy')\n",
    "mimic_test_csv = mimic_test_csv1.copy()\n",
    "\n",
    "black_related = [\n",
    "    'BLACK/AFRICAN AMERICAN',\n",
    "    'BLACK/CAPE VERDEAN',\n",
    "    'BLACK/AFRICAN',\n",
    "    'BLACK/CARIBBEAN ISLAND'\n",
    "]\n",
    "label_black = {}\n",
    "pp_black = {}\n",
    "mimic_test_csv = mimic_test_csv1.copy()\n",
    "label_black = labels_test[mimic_test_csv['race'].isin(black_related)]\n",
    "mimic_test_csv = mimic_test_csv1.copy()\n",
    "pp_black = pp_test[mimic_test_csv['race'].isin(black_related)]\n",
    "__, __, my_auc_black = calculate_roc_auc(pp_black, label_black)\n",
    "\n",
    "\n",
    "fpr_black, fnr_black = calculate_fpr_fnr(pp_black, label_black, thresholds)\n",
    "\n",
    "# my_auc_black = {}\n",
    "# for i in range(label_black.shape[1]):\n",
    "#     my_auc_black[i] = roc_auc_score(label_black[:, i], pp_black[:, i])"
   ]
  },
  {
   "cell_type": "markdown",
   "metadata": {},
   "source": [
    "#### 🟦 Other Races \n",
    "- Filter for races not included in `WHITE` or `BLACK`.\n",
    "- Compute metrics: ROC-AUC, FPR, and FNR."
   ]
  },
  {
   "cell_type": "code",
   "execution_count": 307,
   "metadata": {},
   "outputs": [],
   "source": [
    "# ----------------------------------- OTHER ---------------------------------- #\n",
    "label_other = {}\n",
    "pp_other = {}\n",
    "other_race_mask = ~mimic_test_csv['race'].isin(black_related + white_related)\n",
    "mimic_test_csv = mimic_test_csv1.copy()\n",
    "label_other = labels_test[other_race_mask]\n",
    "mimic_test_csv = mimic_test_csv1.copy()\n",
    "pp_other = pp_test[other_race_mask]\n",
    "__, __, my_auc_other = calculate_roc_auc(pp_other, label_other)\n",
    "\n",
    "\n",
    "fpr_other, fnr_other = calculate_fpr_fnr(pp_other, label_other, thresholds)"
   ]
  },
  {
   "cell_type": "markdown",
   "metadata": {},
   "source": [
    "\n",
    "## 5️⃣ **Incorporate Gender Data 👩‍🦰👨‍🦱**\n"
   ]
  },
  {
   "cell_type": "markdown",
   "metadata": {},
   "source": [
    "### 5.1 Add Gender Information\n",
    "- Load patient demographic data to map `subject_id` to `gender`.\n",
    "- Merge `gender` data into the test dataset.\n",
    "\n",
    "### 5.2 Validate Dataset Integrity ✅\n",
    "- Ensure the dataset's length remains consistent after merging."
   ]
  },
  {
   "cell_type": "code",
   "execution_count": 308,
   "metadata": {},
   "outputs": [
    {
     "name": "stdout",
     "output_type": "stream",
     "text": [
      "Labels size: 37648\n",
      "Testing dataset size: 37648\n"
     ]
    }
   ],
   "source": [
    "# ---------------------------------------------------------------------------- #\n",
    "#                                   GENDER                                     #\n",
    "# ---------------------------------------------------------------------------- #\n",
    "mimic_patients =  pd.read_csv('/local/data/physionet.org/files/mimiciv/2.2/hosp/patients.csv')\n",
    "\n",
    "mimic_patients = mimic_patients.drop_duplicates(subset='subject_id')\n",
    "mimic_patients\n",
    "# Create a mapping from subject_id to race\n",
    "id_to_race = mimic_patients.set_index('subject_id')['gender']\n",
    "# Add the race column to mimic_test_csv based on subject_id mapping\n",
    "mimic_test_csv['gender'] = mimic_test_csv['subject_id'].map(id_to_race)\n",
    "# Verify the lengths remain unchanged\n",
    "\n",
    "print(\"Labels size:\", labels_test.shape[0])\n",
    "print(\"Testing dataset size:\", mimic_test_csv.shape[0])\n",
    "assert len(labels_test) == len(mimic_test_csv), \"Length mismatch detected!\""
   ]
  },
  {
   "cell_type": "markdown",
   "metadata": {},
   "source": [
    "## 6️⃣ **Gender-based Analysis 👩‍🦰👨‍🦱**\n"
   ]
  },
  {
   "cell_type": "markdown",
   "metadata": {},
   "source": [
    "### Male Population\n",
    "- Filter for `M` (male) gender.\n",
    "- Compute metrics: ROC-AUC, FPR, and FNR.\n",
    "\n",
    "### Female Population\n",
    "- Filter for `F` (female) gender.\n",
    "- Compute metrics: ROC-AUC, FPR, and FNR.\n"
   ]
  },
  {
   "cell_type": "code",
   "execution_count": 309,
   "metadata": {},
   "outputs": [],
   "source": [
    "# ----------------------------------- MALE ----------------------------------- #\n",
    "labels_test = np.load(f'/local/home/rezajam/fairness_on_embeddings/results/{exp_type}/probabilities/labels_test.npy')\n",
    "pp_test = np.load(f'/local/home/rezajam/fairness_on_embeddings/results/{exp_type}/probabilities/probabilities_test.npy')\n",
    "\n",
    "label_male = {}\n",
    "pp_male = {}\n",
    "label_male = labels_test[mimic_test_csv['gender'] == \"M\"]\n",
    "pp_male = pp_test[mimic_test_csv['gender'] == \"M\"]\n",
    "__, __, my_auc_male = calculate_roc_auc(pp_male, label_male)\n",
    "\n",
    "\n",
    "fpr_male, fnr_male = calculate_fpr_fnr(pp_male, label_male, thresholds)\n",
    "\n",
    "# ----------------------------------- FEMALE --------------------------------- #\n",
    "labels_test = np.load(f'/local/home/rezajam/fairness_on_embeddings/results/{exp_type}/probabilities/labels_test.npy')\n",
    "pp_test = np.load(f'/local/home/rezajam/fairness_on_embeddings/results/{exp_type}/probabilities/probabilities_test.npy')\n",
    "\n",
    "label_female = {}\n",
    "pp_female = {}\n",
    "label_female = labels_test[mimic_test_csv['gender'] == \"F\"]\n",
    "pp_female = pp_test[mimic_test_csv['gender'] == \"F\"]\n",
    "__, __, my_auc_female = calculate_roc_auc(pp_female, label_female)\n",
    "\n",
    "\n",
    "fpr_female, fnr_female = calculate_fpr_fnr(pp_female, label_female, thresholds)\n"
   ]
  },
  {
   "cell_type": "markdown",
   "metadata": {},
   "source": [
    "\n",
    "## 7️⃣ **Visualizations 📊**\n",
    "\n"
   ]
  },
  {
   "cell_type": "code",
   "execution_count": 310,
   "metadata": {},
   "outputs": [
    {
     "data": {
      "image/png": "[encoded data removed]",
      "text/plain": [
       "<Figure size 500x500 with 1 Axes>"
      ]
     },
     "metadata": {},
     "output_type": "display_data"
    },
    {
     "data": {
      "image/png": "[encoded data removed]",
      "text/plain": [
       "<Figure size 500x500 with 1 Axes>"
      ]
     },
     "metadata": {},
     "output_type": "display_data"
    }
   ],
   "source": [
    "# FPR\n",
    "combined_plot(fpr_all[5], fpr_white[5], fpr_black[5], fpr_other[5], fpr_male[5], fpr_female[5], plot_title, \"FPR\")\n",
    "\n",
    "# AUC\n",
    "combined_plot(my_auc_all[5], my_auc_white[5], my_auc_black[5], my_auc_other[5], my_auc_male[5], my_auc_female[5], plot_title, \"AUC\")"
   ]
  },
  {
   "cell_type": "markdown",
   "metadata": {},
   "source": [
    "# Export (FPR) to JSON 📄"
   ]
  },
  {
   "cell_type": "code",
   "execution_count": 140,
   "metadata": {},
   "outputs": [],
   "source": [
    "import json\n",
    "\n",
    "# FPR_FILE_NAME = \"FPR_MIMIC_CHEXPERT\"\n",
    "# label_names = [\n",
    "#     \"Cardiomegaly\"\n",
    "#     ,\"Edema\"\n",
    "#     ,\"Consolidation\"\n",
    "#     ,\"Atelectasis\"\n",
    "#     ,\"Pleural Effusion\"\n",
    "#     ,\"No Finding\"\n",
    "# ]\n",
    "\n",
    "fprs = {\n",
    "    \"fpr_all\": fpr_all,\n",
    "    \"fpr_white\": fpr_white,\n",
    "    \"fpr_black\": fpr_black,\n",
    "    \"fpr_other\": fpr_other,\n",
    "    \"fpr_male\": fpr_male,\n",
    "    \"fpr_female\": fpr_female\n",
    "}\n",
    "fprs[\"fpr_all\"]\n",
    "# Export to a JSON file\n",
    "with open(f\"/local/home/rezajam/fairness_on_embeddings/FINAL_ANALYSIS/{FPR_FILE_NAME}_last.json\", \"w\") as json_file:\n",
    "    json.dump(fprs, json_file, indent=4)"
   ]
  },
  {
   "cell_type": "markdown",
   "metadata": {},
   "source": [
    "# Export (AUC) to JSON 📄"
   ]
  },
  {
   "cell_type": "code",
   "execution_count": 141,
   "metadata": {},
   "outputs": [],
   "source": [
    "import json\n",
    "\n",
    "# AUC_FILE_NAME = \"AUC_MIMIC_CHEXPERT\"\n",
    "# label_names = [\n",
    "#     \"Cardiomegaly\"\n",
    "#     ,\"Edema\"\n",
    "#     ,\"Consolidation\"\n",
    "#     ,\"Atelectasis\"\n",
    "#     ,\"Pleural Effusion\"\n",
    "#     ,\"No Finding\"\n",
    "# ]\n",
    "\n",
    "aucs = {\n",
    "    \"my_auc_all\": my_auc_all,\n",
    "    \"my_auc_white\": my_auc_white,\n",
    "    \"my_auc_black\": my_auc_black,\n",
    "    \"my_auc_other\": my_auc_other,\n",
    "    \"my_auc_male\": my_auc_male,\n",
    "    \"my_auc_female\": my_auc_female\n",
    "    \n",
    "}\n",
    "# Export to a JSON file\n",
    "with open(f\"/local/home/rezajam/fairness_on_embeddings/FINAL_ANALYSIS/{AUC_FILE_NAME}_last.json\", \"w\") as json_file:\n",
    "    json.dump(aucs, json_file, indent=4)"
   ]
  }
 ],
 "metadata": {
  "kernelspec": {
   "display_name": "base",
   "language": "python",
   "name": "python3"
  },
  "language_info": {
   "codemirror_mode": {
    "name": "ipython",
    "version": 3
   },
   "file_extension": ".py",
   "mimetype": "text/x-python",
   "name": "python",
   "nbconvert_exporter": "python",
   "pygments_lexer": "ipython3",
   "version": "3.12.7"
  }
 },
 "nbformat": 4,
 "nbformat_minor": 2
}
